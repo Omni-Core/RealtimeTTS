{
 "cells": [
  {
   "cell_type": "code",
   "execution_count": 1,
   "metadata": {},
   "outputs": [
    {
     "data": {
      "text/plain": [
       "'d:\\\\workspace\\\\Omnicore\\\\RealtimeTTS'"
      ]
     },
     "execution_count": 1,
     "metadata": {},
     "output_type": "execute_result"
    }
   ],
   "source": [
    "pwd"
   ]
  },
  {
   "cell_type": "code",
   "execution_count": null,
   "metadata": {},
   "outputs": [
    {
     "name": "stdout",
     "output_type": "stream",
     "text": [
      "d:\\workspace\\Omnicore\\RealtimeTTS\n",
      "('c:\\\\Users\\\\Seyoung\\\\anaconda3\\\\envs\\\\realtts;C:\\\\Users\\\\Seyoung\\\\anaconda3\\\\envs\\\\realtts;C:\\\\Users\\\\Seyoung\\\\anaconda3\\\\envs\\\\realtts\\\\Library\\\\mingw-w64\\\\bin;C:\\\\Users\\\\Seyoung\\\\anaconda3\\\\envs\\\\realtts\\\\Library\\\\usr\\\\bin;C:\\\\Users\\\\Seyoung\\\\anaconda3\\\\envs\\\\realtts\\\\Library\\\\bin;C:\\\\Users\\\\Seyoung\\\\anaconda3\\\\envs\\\\realtts\\\\Scripts;C:\\\\Users\\\\Seyoung\\\\anaconda3\\\\envs\\\\realtts\\\\bin;C:\\\\Users\\\\Seyoung\\\\anaconda3\\\\condabin;C:\\\\Program '\n",
      " 'Files\\\\NVIDIA GPU Computing Toolkit\\\\CUDA\\\\v12.2\\\\bin;C:\\\\Program '\n",
      " 'Files\\\\NVIDIA GPU Computing Toolkit\\\\CUDA\\\\v12.2\\\\libnvvp;C:\\\\Program Files '\n",
      " '(x86)\\\\VMware\\\\VMware Player\\\\bin;C:\\\\Program Files (x86)\\\\Common '\n",
      " 'Files\\\\Oracle\\\\Java\\\\javapath;C:\\\\Program Files (x86)\\\\Common '\n",
      " 'Files\\\\Intel\\\\Shared '\n",
      " 'Libraries\\\\redist\\\\intel64\\\\compiler;C:\\\\Windows\\\\system32;C:\\\\Windows;C:\\\\Windows\\\\System32\\\\Wbem;C:\\\\Windows\\\\System32\\\\WindowsPowerShell\\\\v1.0;C:\\\\Windows\\\\System32\\\\OpenSSH;C:\\\\Program '\n",
      " 'Files (x86)\\\\NVIDIA Corporation\\\\PhysX\\\\Common;C:\\\\Program '\n",
      " 'Files\\\\MySQL\\\\MySQL Server 8.0\\\\bin;C:\\\\Program '\n",
      " 'Files\\\\dotnet;C:\\\\MinGW\\\\bin;C:\\\\Program '\n",
      " 'Files\\\\Bandizip;C:\\\\Users\\\\Seyoung\\\\AppData\\\\Local\\\\Programs\\\\Python\\\\Python310\\\\Scripts;C:\\\\Program '\n",
      " 'Files\\\\Git\\\\cmd;C:\\\\Program Files (x86)\\\\STMicroelectronics\\\\STM32 ST-LINK '\n",
      " 'Utility\\\\ST-LINK Utility;C:\\\\Program Files\\\\CMake\\\\bin;C:\\\\Program Files '\n",
      " '(x86)\\\\GnuWin32\\\\bin;C:\\\\Users\\\\Seyoung\\\\anaconda3;C:\\\\Users\\\\Seyoung\\\\anaconda3\\\\Scripts;C:\\\\Program '\n",
      " 'Files (x86)\\\\Windows Kits\\\\10\\\\Windows Performance Toolkit;C:\\\\Program '\n",
      " 'Files\\\\Oracle\\\\VirtualBox;C:\\\\Program Files\\\\NVIDIA Corporation\\\\Nsight '\n",
      " 'Compute 2023.2.0;C:\\\\Program Files\\\\NVIDIA Corporation\\\\NVIDIA '\n",
      " 'NvDLISR;C:\\\\Program Files\\\\Docker\\\\Docker\\\\resources\\\\bin;C:\\\\Program '\n",
      " 'Files\\\\nodejs;.;C:\\\\ProgramData\\\\chocolatey\\\\bin;C:\\\\Users\\\\Seyoung\\\\.pyenv\\\\pyenv-win\\\\bin;C:\\\\Users\\\\Seyoung\\\\.pyenv\\\\pyenv-win\\\\shims;C:\\\\Users\\\\Seyoung\\\\.cargo\\\\bin;C:\\\\Program '\n",
      " 'Files\\\\MySQL\\\\MySQL Shell '\n",
      " '8.0\\\\bin;C:\\\\Users\\\\Seyoung\\\\AppData\\\\Local\\\\Microsoft\\\\WindowsApps;C:\\\\Users\\\\Seyoung\\\\AppData\\\\Local\\\\Programs\\\\Microsoft '\n",
      " 'VS '\n",
      " 'Code\\\\bin;C:\\\\Users\\\\Seyoung\\\\.dotnet\\\\tools;C:\\\\Users\\\\Seyoung\\\\AppData\\\\Local\\\\bin\\\\NASM;C:\\\\Users\\\\Seyoung\\\\AppData\\\\Local\\\\Programs\\\\Ollama;C:\\\\Users\\\\Seyoung\\\\AppData\\\\Roaming\\\\npm;C:\\\\Users\\\\Seyoung\\\\anaconda3;C:\\\\Users\\\\Seyoung\\\\anaconda3\\\\Scripts;.')\n"
     ]
    }
   ],
   "source": [
    "from pprint import pprint\n",
    "\n",
    "import os\n",
    "\n",
    "\n",
    "print(os.getcwd())\n",
    "\n",
    "import os\n",
    "\n",
    "\n",
    "pprint(os.environ[\"PATH\"])"
   ]
  },
  {
   "cell_type": "code",
   "execution_count": null,
   "metadata": {},
   "outputs": [
    {
     "name": "stdout",
     "output_type": "stream",
     "text": [
      "True\n",
      "True\n"
     ]
    }
   ],
   "source": [
    "import os\n",
    "\n",
    "print(os.path.exists(r\"C:\\ProgramData\\chocolatey\\bin\\ffmpeg.exe\"))\n",
    "print(os.path.isfile(r\"C:\\ProgramData\\chocolatey\\bin\\ffmpeg.exe\"))"
   ]
  },
  {
   "cell_type": "code",
   "execution_count": null,
   "metadata": {},
   "outputs": [
    {
     "name": "stdout",
     "output_type": "stream",
     "text": [
      "{}\n"
     ]
    }
   ],
   "source": [
    "from pydub import AudioSegment\n",
    "from pydub.utils import mediainfo\n",
    "\n",
    "AudioSegment.converter = r\"C:\\ProgramData\\chocolatey\\bin\\ffmpeg.exe\"\n",
    "AudioSegment.ffprobe = r\"C:\\ProgramData\\chocolatey\\bin\\ffprobe.exe\"\n",
    "\n",
    "info = mediainfo(\"test.wav\")\n",
    "print(info)"
   ]
  },
  {
   "cell_type": "code",
   "execution_count": null,
   "metadata": {},
   "outputs": [
    {
     "name": "stderr",
     "output_type": "stream",
     "text": [
      "c:\\Users\\Seyoung\\anaconda3\\envs\\realtts\\Lib\\site-packages\\pydub\\utils.py:170: RuntimeWarning: Couldn't find ffmpeg or avconv - defaulting to ffmpeg, but may not work\n",
      "  warn(\"Couldn't find ffmpeg or avconv - defaulting to ffmpeg, but may not work\", RuntimeWarning)\n"
     ]
    }
   ],
   "source": [
    "from pydub import AudioSegment"
   ]
  },
  {
   "cell_type": "code",
   "execution_count": null,
   "metadata": {},
   "outputs": [],
   "source": [
    "import logging\n",
    "\n",
    "logging.basicConfig(level=logging.DEBUG)"
   ]
  },
  {
   "cell_type": "code",
   "execution_count": 4,
   "metadata": {},
   "outputs": [],
   "source": [
    "from RealtimeTTS import TextToAudioStream, SystemEngine, AzureEngine, ElevenlabsEngine\n",
    "\n",
    "engine = SystemEngine()  # replace with your TTS engine\n",
    "stream = TextToAudioStream(engine, language=\"ko\")\n",
    "# stream = TextToAudioStream(engine, frames_per_buffer=256)\n",
    "stream.feed(\"Hello world! How are you today?\")\n",
    "stream.feed(\"안녕하세요, 여러분\")\n",
    "stream.feed(\"Namuwiki: Der Baum des Wissens, den wir zusammen pflegen.\")\n",
    "\n",
    "stream.play_async()\n",
    "# info = mediainfo(self.file_paath)"
   ]
  },
  {
   "cell_type": "code",
   "execution_count": null,
   "metadata": {},
   "outputs": [
    {
     "name": "stdout",
     "output_type": "stream",
     "text": [
      "Synthesizing with engine: coqui for language: ko\n",
      "Starting to play stream in ko\n",
      "c:\\Users\\Seyoung\\anaconda3\\envs\\realtts2\\Lib\\site-packages\\transformers\\integrations\\sdpa_attention.py:54: UserWarning: 1Torch was not compiled with flash attention. (Triggered internally at ..\\aten\\src\\ATen\\native\\transformers\\cuda\\sdp_utils.cpp:455.)\n",
      "  attn_output = torch.nn.functional.scaled_dot_product_attention(\n",
      "\n",
      "Synthesized (ko): 저는 독서를 좋아해요.\n",
      "Synthesized (ko): 날씨가 좋네요.\n",
      "Synthesized (ko): 공원에 가요.\n",
      "Synthesized (ko): 오늘은 금요일이에요.\n",
      "Synthesized (ko): 좋은 아침이에요.\n",
      "Synthesized (ko): 이 분은 제 친구예요.\n",
      "Synthesized (ko): 제발 도와주세요.\n",
      "Synthesized (ko): 식사하셨어요?\n",
      "Synthesized (ko): 저는 영어를 배우고 있어요.\n",
      "Synthesized (ko): 안녕히 주무세요.\n"
     ]
    }
   ],
   "source": [
    "if __name__ == \"__main__\":\n",
    "    import os\n",
    "    from RealtimeTTS import TextToAudioStream\n",
    "\n",
    "    def dummy_generator(language):\n",
    "        if language == \"zh\":\n",
    "            yield \"我喜欢读书。天气很好。我们去公园吧。今天是星期五。早上好。这是我的朋友。请帮我。吃饭了吗？我在学中文。晚安。\"\n",
    "        elif language == \"en\":\n",
    "            yield \"I love reading. The weather is nice. Let's go to the park. Today is Friday. Good morning. This is my friend. Please help me. Have you eaten? I'm learning English. Good night.\"\n",
    "        elif language == \"es\":\n",
    "            yield \"Me gusta leer. Hace buen tiempo. Vamos al parque. Hoy es viernes. Buenos días. Este es mi amigo. Por favor, ayúdame. ¿Has comido? Estoy aprendiendo español. Buenas noches.\"\n",
    "        elif language == \"de\":\n",
    "            yield \"Ich liebe es zu lesen. Das Wetter ist schön. Lass uns in den Park gehen. Heute ist Freitag. Guten Morgen. Das ist mein Freund. Bitte hilf mir. Hast du gegessen? Ich lerne Deutsch. Gute Nacht.\"\n",
    "        elif language == \"fr\":\n",
    "            yield \"J'aime lire. Le temps est agréable. Allons au parc. Aujourd'hui, c'est vendredi. Bonjour. C'est mon ami. Aidez-moi s'il vous plaît. As-tu mangé? J'apprends le français. Bonne nuit.\"\n",
    "        elif language == \"it\":\n",
    "            yield \"Mi piace leggere. Il tempo è bello. Andiamo al parco. Oggi è venerdì. Buongiorno. Questo è il mio amico. Per favore aiutami. Hai mangiato? Sto imparando l'italiano. Buonanotte.\"\n",
    "        elif language == \"ja\":\n",
    "            yield \"私は読書が好きです。天気がいいですね。公園に行きましょう。今日は金曜日です。おはようございます。これは私の友達です。助けてください。食べましたか？私は日本語を勉強しています。おやすみなさい。\"\n",
    "        elif language == \"ko\":\n",
    "            yield \"저는 독서를 좋아해요. 날씨가 좋네요. 공원에 가요. 오늘은 금요일이에요. 좋은 아침이에요. 이 분은 제 친구예요. 제발 도와주세요. 식사하셨어요? 저는 영어를 배우고 있어요. 안녕히 주무세요.\"\n",
    "        elif language == \"ar\":\n",
    "            yield \"أحب القراءة. الطقس لطيف. هيا نذهب إلى الحديقة. اليوم هو الجمعة. صباح الخير. هذا صديقي. أرجوك ساعدني. هل تناولت الطعام؟ أنا أتعلم العربية. تصبح على خير.\"\n",
    "        elif language == \"hi\":\n",
    "            yield \"मुझे पढ़ना पसंद है। मौसम अच्छा है। चलो पार्क चलते हैं। आज शुक्रवार है। सुप्रभात। यह मेरा दोस्त है। कृपया मेरी मदद करें। क्या आपने खाना खाया? मैं हिंदी सीख रहा हूं। शुभ रात्रि।\"\n",
    "        elif language == \"pt\":\n",
    "            yield \"Eu gosto de ler. O tempo está bom. Vamos ao parque. Hoje é sexta-feira. Bom dia. Este é meu amigo. Por favor, me ajude. Você já comeu? Estou aprendendo português. Boa noite.\"\n",
    "        elif language == \"ru\":\n",
    "            yield \"Я люблю читать. Погода хорошая. Пойдем в парк. Сегодня пятница. Доброе утро. Это мой друг. Пожалуйста, помогите мне. Вы уже ели? Я учу русский язык. Спокойной ночи.\"\n",
    "        elif language == \"id\":\n",
    "            yield \"Saya suka membaca. Cuacanya bagus. Ayo pergi ke taman. Hari ini hari Jumat. Selamat pagi. Ini teman saya. Tolong bantu saya. Apakah Anda sudah makan? Saya sedang belajar bahasa Indonesia. Selamat malam.\"\n",
    "        elif language == \"tr\":\n",
    "            yield \"Okumayı seviyorum. Hava güzel. Haydi parka gidelim. Bugün Cuma. Günaydın. Bu benim arkadaşım. Lütfen bana yardım edin. Yemek yediniz mi? Türkçe öğreniyorum. İyi geceler.\"\n",
    "        elif language == \"vi\":\n",
    "            yield \"Tôi thích đọc sách. Thời tiết đẹp. Hãy đi công viên. Hôm nay là thứ Sáu. Chào buổi sáng. Đây là bạn tôi. Làm ơn giúp tôi. Bạn đã ăn chưa? Tôi đang học tiếng Việt. Chúc ngủ ngon.\"\n",
    "        elif language == \"bn\":\n",
    "            yield \"আমি পড়তে পছন্দ করি। আবহাওয়া ভালো। চলো পার্কে যাই। আজ শুক্রবার। সুপ্রভাত। এই আমার বন্ধু। অনুগ্রহ করে আমাকে সাহায্য করুন। আপনি কি খেয়েছেন? আমি বাংলা শিখছি। শুভ রাত্রি।\"\n",
    "        elif language == \"pl\":\n",
    "            yield \"Lubię czytać. Pogoda jest ładna. Chodźmy do parku. Dziś jest piątek. Dzień dobry. To jest mój przyjaciel. Proszę mi pomóc. Czy jadłeś? Uczę się polskiego. Dobranoc.\"\n",
    "        elif language == \"nl\":\n",
    "            yield \"Ik hou van lezen. Het weer is mooi. Laten we naar het park gaan. Vandaag is het vrijdag. Goedemorgen. Dit is mijn vriend. Help me alsjeblieft. Heb je al gegeten? Ik leer Nederlands. Welterusten.\"\n",
    "        elif language == \"uk\":\n",
    "            yield \"Я люблю читати. Погода гарна. Давайте підемо в парк. Сьогодні п'ятниця. Доброго ранку. Це мій друг. Будь ласка, допоможіть мені. Ви вже їли? Я вивчаю українську. На добраніч.\"\n",
    "        elif language == \"be\":\n",
    "            yield \"Я люблю чытаць. Надвор'е добрае. Пойдзем у парк. Сёння пятніца. Добрай раніцы. Гэта мой сябар. Калі ласка, дапамажыце мне. Вы ўжо елі? Я вывучаю беларускую мову. Дабранач.\"\n",
    "        elif language == \"ur\":\n",
    "            yield \"مجھے پڑھنا پسند ہے۔ موسم اچھا ہے۔ آئیے پارک چلتے ہیں۔ آج جمعہ ہے۔ صبح بخیر۔ یہ میرا دوست ہے۔ براہ کرم مدد کیجیے۔ کیا آپ نے کھانا کھایا ہے؟ میں اردو سیکھ رہا ہوں۔ شب بخیر۔\"\n",
    "        elif language == \"mr\":\n",
    "            yield \"मला वाचायला आवडते. हवामान छान आहे. चला बागेत जाऊया. आज शुक्रवार आहे. शुभ प्रभात. हा माझा मित्र आहे. कृपया मला मदत करा. तुम्ही जेवण केले आहे का? मी मराठी शिकत आहे. शुभ रात्री.\"\n",
    "        elif language == \"te\":\n",
    "            yield \"నాకు చదవడం ఇష్టం. వాతావరణం బాగుంది. పార్కుకి వెళ్దాం. ఈరోజు శుక્రవారం. శుభోదయం. ఇతను నా స్నేహితుడు. దయచేసి నాకు సహాయం చేయండి. మీరు భోజనం చేశారా? నేను తెలుగు నేర్చుకుంటున్నాను. శుభరాత്రి.\"\n",
    "        elif language == \"ta\":\n",
    "            yield \"எனக்கு படிக்க பிடிக்கும். வானிலை நன்றாக உள்ளது. பூங்காவிற்கு செல்வோம். இன்று வெள்ளிக்கிழமை. காலை வணக்கம். இவர் என் நண்பர். தயவுசெய்து எனக்கு உதவுங்். நீங்கள சாப்பிட்டீர்களா? நான் தமிழ் கற்றுக்கொண்டிருக்கிறேன். இனிய இரவு வணக்கம்.\"\n",
    "        elif language == \"gu\":\n",
    "            yield \"મને વાંચવું ગમે છે. હવામાન સરસ છે. ચાલો પાર્કમાં જઈએ. આજે શુક્રવાર છે. સુપ્રભાત. આ મારો મિત્ર છે. કૃપા કરીને મને મદદ કરો. તમે ખાધું? હું ગુજરાતી શીખી રહ્યો છું. શુભ રાત્રી.\"\n",
    "        elif language == \"cs\":\n",
    "            yield \"Rád čtu. Počasí je hezké. Pojďme do parku. Dnes je pátek. Dobré ráno. Toto je můj přítel. Prosím, pomozte mi. Už jste jedli? Učím se česky. Dobrou noc.\"\n",
    "        elif language == \"hu\":\n",
    "            yield \"Szeretek olvasni. Az idő szép. Menjünk a parkba. Ma péntek van. Jó reggelt. Ő a barátom. Kérem, segítsen nekem. Ettél már? Magyarul tanulok. Jó éjszakát.\"\n",
    "        elif language == \"ml\":\n",
    "            yield \"എനിക്ക് വായിക്കാൻ ഇഷ്ടമാണ്. കാലാവസ്ഥ നല്ലതാണ്. നമുക്ക് പാർക്കിലേക്ക് പോകാം. ഇന്ന് വെള്ളിയാഴ്ചയാണ്. സുപ്രഭാതം. ഇദ്ദേഹം എന്റെ സുഹൃത്താണ്. ദയവായി എന്നെ സഹായിക്കൂ. നിങ്ങൾ ഭക്ഷണം കഴിച്ചോ? ഞാൻ മലയാളം പഠിക്കുകയാണ്. ശുഭരാത്രി.\"\n",
    "        elif language == \"kn\":\n",
    "            yield \"ನನಗೆ ಓದಲು ಇಷ್ಟ. ಹವಾಮಾನ ಚೆನ್ನಾಗಿದೆ. ಉದ್ಯಾನವನಕ್ಕೆ ಹೋಗೋಣ. ಇಂದು ಶುಕ್ರವಾರ. ಶುಭೋದಯ. ಇವರು ನನ್ನ ಸ್ನೇಹಿತರು. ದಯವಿಟ್ಟು ನನಗೆ ಸಹಾಯ ಮಾಡಿ. ನೀವು ಊಟ ಮಾಡಿದ್ದೀರಾ? ನಾನು ಕನ್ನಡ ಕಲಿಯುತ್ತಿದ್ದೇನೆ. ಶುಭ ರಾತ್ರಿ.\"\n",
    "        elif language == \"ne\":\n",
    "            yield \"मलाई पढ्न मन पर्छ। मौसम राम्रो छ। पार्कमा जाऔं। आज शुक्रबार हो। शुभ प्रभात। यो मेरो साथी हो। कृपया मलाई मद्दत गर्नुहोस्। के तपाईंले खाना खानुभयो? म नेपाली सिक्दैछु। शुभ रात्री।\"\n",
    "        elif language == \"th\":\n",
    "            yield \"ฉันชอบอ่านหนังสือ อากาศดี ไปที่สวนสาธารณะกัน วันนี้วันศุกร์ สวัสดีตอนเช้า นี่คือเพื่อนของฉัน กรุณาช่วยฉันด้วย คุณทานอาหารหรือยัง ฉันกำลังเรียนภาษาไทย ราตรีสวัสดิ์\"\n",
    "\n",
    "    def synthesize(engine, language, generator):\n",
    "        stream = TextToAudioStream(engine)\n",
    "\n",
    "        print(f\"Starting to play stream in {language}\")\n",
    "        stream.feed(generator(language))\n",
    "        filename = f\"synthesis_{language}_\" + engine.engine_name\n",
    "\n",
    "        tokenizer = (\n",
    "            \"stanza\"\n",
    "            if language\n",
    "            in [\n",
    "                \"zh\",\n",
    "                \"es\",\n",
    "                \"de\",\n",
    "                \"fr\",\n",
    "                \"it\",\n",
    "                \"ja\",\n",
    "                \"ko\",\n",
    "                \"ar\",\n",
    "                \"hi\",\n",
    "                \"pt\",\n",
    "                \"ru\",\n",
    "                \"id\",\n",
    "                \"tr\",\n",
    "                \"vi\",\n",
    "                \"bn\",\n",
    "                \"pl\",\n",
    "                \"nl\",\n",
    "                \"uk\",\n",
    "                \"be\",\n",
    "                \"ur\",\n",
    "                \"mr\",\n",
    "                \"te\",\n",
    "                \"ta\",\n",
    "                \"gu\",\n",
    "                \"cs\",\n",
    "                \"hu\",\n",
    "                \"ml\",\n",
    "                \"kn\",\n",
    "                \"ne\",\n",
    "                \"th\",\n",
    "            ]\n",
    "            else None\n",
    "        )\n",
    "        stream.play(\n",
    "            minimum_sentence_length=2,\n",
    "            minimum_first_fragment_length=2,\n",
    "            output_wavfile=f\"{filename}.wav\",\n",
    "            on_sentence_synthesized=lambda sentence: print(\n",
    "                f\"Synthesized ({language}): \" + sentence\n",
    "            ),\n",
    "            tokenizer=tokenizer,\n",
    "            language=language,\n",
    "            context_size=2,\n",
    "        )\n",
    "\n",
    "        with open(f\"{filename}.txt\", \"w\", encoding=\"utf-8\") as f:\n",
    "            f.write(stream.text())\n",
    "\n",
    "        engine.shutdown()\n",
    "\n",
    "    def get_engine(name, language):\n",
    "        if name == \"coqui\":\n",
    "            from RealtimeTTS import CoquiEngine\n",
    "\n",
    "            voices = {\n",
    "                \"zh\": \"female_chinese\",\n",
    "                \"en\": \"female_english\",\n",
    "                \"es\": \"female_spanish\",\n",
    "                \"de\": \"female_german\",\n",
    "                \"fr\": \"female_french\",\n",
    "                \"it\": \"female_italian\",\n",
    "                \"ja\": \"female_japanese\",\n",
    "                \"ko\": \"female_korean\",\n",
    "                \"ar\": \"female_arabic\",\n",
    "                \"hi\": \"female_hindi\",\n",
    "                \"pt\": \"female_portuguese\",\n",
    "                \"ru\": \"female_russian\",\n",
    "                \"id\": \"female_indonesian\",\n",
    "                \"tr\": \"female_turkish\",\n",
    "                \"vi\": \"female_vietnamese\",\n",
    "                \"bn\": \"female_bengali\",\n",
    "                \"pl\": \"female_polish\",\n",
    "                \"nl\": \"female_dutch\",\n",
    "                \"uk\": \"female_ukrainian\",\n",
    "                \"be\": \"female_belarusian\",  # Add this line\n",
    "                \"ur\": \"female_urdu\",  # Add this line\n",
    "                \"mr\": \"female_marathi\",  # Add this line\n",
    "                \"te\": \"female_telugu\",  # Add this line\n",
    "                \"ta\": \"female_tamil\",  # Add this line\n",
    "                \"gu\": \"female_gujarati\",  # Add this line\n",
    "                \"cs\": \"female_czech\",  # Add this line\n",
    "                \"hu\": \"female_hungarian\",  # Add this line\n",
    "                \"ml\": \"female_malayalam\",  # Add this line\n",
    "                \"kn\": \"female_kannada\",  # Add this line\n",
    "                \"ne\": \"female_nepali\",  # Add this line\n",
    "                \"th\": \"female_thai\",  # Add this line\n",
    "            }\n",
    "\n",
    "            # return CoquiEngine(voice=voices[language], language=language, voice = \"Zira\")\n",
    "            return CoquiEngine(language=language, voice = \"Zira\")\n",
    "        elif name == \"azure\":\n",
    "            from RealtimeTTS import AzureEngine\n",
    "\n",
    "            voices = {\n",
    "                \"zh\": \"zh-CN-XiaoxiaoNeural\",\n",
    "                \"en\": \"en-US-JennyNeural\",\n",
    "                \"es\": \"es-ES-ElviraNeural\",\n",
    "                \"de\": \"de-DE-KatjaNeural\",\n",
    "                \"fr\": \"fr-FR-DeniseNeural\",\n",
    "                \"it\": \"it-IT-ElsaNeural\",\n",
    "                \"ja\": \"ja-JP-AoiNeural\",\n",
    "                \"ko\": \"ko-KR-SunHiNeural\",\n",
    "                \"ar\": \"ar-AE-FatimaNeural\",\n",
    "                \"hi\": \"hi-IN-SwaraNeural\",\n",
    "                \"pt\": \"pt-BR-FranciscaNeural\",\n",
    "                \"ru\": \"ru-RU-SvetlanaNeural\",\n",
    "                \"id\": \"id-ID-GadisNeural\",\n",
    "                \"tr\": \"tr-TR-EmelNeural\",\n",
    "                \"vi\": \"vi-VN-HoaiMyNeural\",\n",
    "                \"bn\": \"bn-IN-TanishaaNeural\",\n",
    "                \"pl\": \"pl-PL-AgnieszkaNeural\",\n",
    "                \"nl\": \"nl-NL-ColetteNeural\",\n",
    "                \"uk\": \"uk-UA-PolinaNeural\",\n",
    "                \"be\": \"be-BY-DaryaNeural\",  # Add this line\n",
    "                \"ur\": \"ur-PK-UzmaNeural\",  # Add this line\n",
    "                \"mr\": \"mr-IN-AarohiNeural\",  # Add this line\n",
    "                \"te\": \"te-IN-ShrutiNeural\",  # Add this line\n",
    "                \"ta\": \"ta-IN-PallaviNeural\",  # Add this line\n",
    "                \"gu\": \"gu-IN-DhwaniNeural\",  # Add this line\n",
    "                \"cs\": \"cs-CZ-VlastaNeural\",  # Add this line\n",
    "                \"hu\": \"hu-HU-NoemiNeural\",  # Add this line\n",
    "                \"ml\": \"ml-IN-SobhanaNeural\",  # Add this line\n",
    "                \"kn\": \"kn-IN-SapnaNeural\",  # Add this line\n",
    "                \"ne\": \"ne-NP-HemkalaNeural\",  # Add this line\n",
    "                \"th\": \"th-TH-PremwadeeNeural\",  # Add this line\n",
    "            }\n",
    "            return AzureEngine(\n",
    "                os.environ.get(\"AZURE_SPEECH_KEY\"),\n",
    "                os.environ.get(\"AZURE_SPEECH_REGION\"),\n",
    "                voice=voices[language],\n",
    "            )\n",
    "        elif name == \"elevenlabs\":\n",
    "            from RealtimeTTS import ElevenlabsEngine\n",
    "\n",
    "            return ElevenlabsEngine(os.environ.get(\"ELEVENLABS_API_KEY\"))\n",
    "        else:\n",
    "            from RealtimeTTS import SystemEngine\n",
    "\n",
    "            voices = {\n",
    "                \"zh\": \"Huihui\",\n",
    "                \"en\": \"Microsoft Zira\",\n",
    "                \"es\": \"Microsoft Helena\",\n",
    "                \"de\": \"Microsoft Hedda\",\n",
    "                \"fr\": \"Microsoft Hortense\",\n",
    "                \"it\": \"Microsoft Elsa\",\n",
    "                \"ja\": \"Microsoft Haruka\",\n",
    "                \"ko\": \"Microsoft Heami\",\n",
    "                \"ar\": \"Microsoft Hoda\",\n",
    "                \"hi\": \"Microsoft Hemant\",\n",
    "                \"pt\": \"Microsoft Maria\",\n",
    "                \"ru\": \"Microsoft Irina\",\n",
    "                \"id\": \"Microsoft Andika\",  # Note: This is a placeholder, as Windows might not have a default Indonesian voice\n",
    "                \"tr\": \"Microsoft Tolga\",  # Note: This is a placeholder, as Windows might not have a default Turkish voice\n",
    "                \"vi\": \"Microsoft An\",  # Note: This is a placeholder, as Windows might not have a default Vietnamese voice\n",
    "                \"bn\": \"Microsoft Bashkar\",  # Note: This is a placeholder, as Windows might not have a default Bengali voice\n",
    "                \"pl\": \"Microsoft Paulina\",  # Note: This is a placeholder, as Windows might not have a default Polish voice\n",
    "                \"nl\": \"Microsoft Frank\",  # Note: This is a placeholder, as Windows might not have a default Dutch voice\n",
    "                \"uk\": \"Microsoft Ostap\",  # Note: This is a placeholder, as Windows might not have a default Ukrainian voice\n",
    "                \"be\": \"Microsoft Alena\",  # Note: This is a placeholder, as Windows might not have a default Belarusian voice\n",
    "                \"ur\": \"Microsoft Asad\",  # Note: This is a placeholder, as Windows might not have a default Urdu voice\n",
    "                \"mr\": \"Microsoft Swara\",  # Note: This is a placeholder, as Windows might not have a default Marathi voice\n",
    "                \"te\": \"Microsoft Karthik\",  # Note: This is a placeholder, as Windows might not have a default Telugu voice\n",
    "                \"ta\": \"Microsoft Valluvar\",  # Note: This is a placeholder, as Windows might not have a default Tamil voice\n",
    "                \"gu\": \"Microsoft Dhwani\",  # Note: This is a placeholder, as Windows might not have a default Gujarati voice\n",
    "                \"cs\": \"Microsoft Jakub\",  # Note: This is a placeholder, as Windows might not have a default Czech voice\n",
    "                \"hu\": \"Microsoft Szabolcs\",  # Note: This is a placeholder, as Windows might not have a default Hungarian voice\n",
    "                \"ml\": \"Microsoft Anjali\",  # Note: This is a placeholder, as Windows might not have a default Malayalam voice\n",
    "                \"kn\": \"Microsoft Heera\",  # Note: This is a placeholder, as Windows might not have a default Kannada voice\n",
    "                \"ne\": \"Microsoft Hemkala\",  # Note: This is a placeholder, as Windows might not have a default Nepali voice\n",
    "                \"th\": \"Microsoft Premwadee\",  # Note: This is a placeholder, as Windows might not have a default Thai voice\n",
    "            }\n",
    "            return SystemEngine(voice=voices[language])\n",
    "\n",
    "    # languages = [\"zh\", \"en\", \"es\", \"de\", \"fr\", \"it\", \"ja\", \"ko\", \"ar\", \"hi\", \"pt\", \"ru\", \"id\", \"tr\", \"vi\", \"bn\", \"pl\", \"nl\", \"uk\", \"be\", \"ur\", \"mr\", \"te\", \"ta\", \"gu\", \"cs\", \"hu\", \"ml\", \"kn\", \"ne\", \"th\"]\n",
    "    engine_name = \"coqui\"\n",
    "    language = \"ko\"\n",
    "    engine = get_engine(engine_name, language)\n",
    "    # engine = get_engine(engine_name)\n",
    "    print(f\"Synthesizing with engine: {engine_name} for language: {language}\")\n",
    "    synthesize(engine, language, dummy_generator)\n",
    "\n",
    "    # for engine_name in [\"coqui\", \"elevenlabs\", \"azure\", \"system\"]:\n",
    "    #     for language in languages:\n",
    "    #         print(f\"Starting engine: {engine_name} for language: {language}\")\n",
    "    #         engine = get_engine(engine_name, language)\n",
    "    #         print(f\"Synthesizing with engine: {engine_name} for language: {language}\")\n",
    "    #         synthesize(engine, language, dummy_generator)"
   ]
  },
  {
   "cell_type": "code",
   "execution_count": 4,
   "metadata": {},
   "outputs": [
    {
     "data": {
      "text/plain": [
       "'d:\\\\workspace\\\\Omnicore\\\\RealtimeTTS'"
      ]
     },
     "execution_count": 4,
     "metadata": {},
     "output_type": "execute_result"
    }
   ],
   "source": [
    "pwd"
   ]
  },
  {
   "cell_type": "code",
   "execution_count": 5,
   "metadata": {},
   "outputs": [],
   "source": [
    "def my_synthesize(engine, language, generator):\n",
    "        stream = TextToAudioStream(engine)\n",
    "\n",
    "        print(f\"Starting to play stream in {language}\")\n",
    "        stream.feed(generator)\n",
    "        filename = f\"synthesis_{language}_\" + engine.engine_name\n",
    "\n",
    "        tokenizer = (\n",
    "            \"stanza\"\n",
    "            if language\n",
    "            in [\n",
    "                \"ko\",\n",
    "            ]\n",
    "            else None\n",
    "        )\n",
    "        stream.play(\n",
    "            minimum_sentence_length=2,\n",
    "            minimum_first_fragment_length=2,\n",
    "            output_wavfile=f\"{filename}.wav\",\n",
    "            on_sentence_synthesized=lambda sentence: print(\n",
    "                f\"Synthesized ({language}): \" + sentence\n",
    "            ),\n",
    "            tokenizer=tokenizer,\n",
    "            language=language,\n",
    "            context_size=2,\n",
    "        )\n",
    "\n",
    "        with open(f\"{filename}.txt\", \"w\", encoding=\"utf-8\") as f:\n",
    "            f.write(stream.text())\n",
    "\n",
    "        engine.shutdown()"
   ]
  },
  {
   "cell_type": "code",
   "execution_count": null,
   "metadata": {},
   "outputs": [],
   "source": []
  },
  {
   "cell_type": "code",
   "execution_count": 7,
   "metadata": {},
   "outputs": [
    {
     "name": "stderr",
     "output_type": "stream",
     "text": [
      "Downloading https://raw.githubusercontent.com/stanfordnlp/stanza-resources/main/resources_1.9.0.json: 392kB [00:00, 46.3MB/s]                    \n",
      "INFO:stanza:Downloaded file to C:\\Users\\Seyoung\\stanza_resources\\resources.json\n",
      "INFO:stanza:Downloading default packages for language: ko (Korean) ...\n",
      "INFO:stanza:File exists: C:\\Users\\Seyoung\\stanza_resources\\ko\\default.zip\n",
      "INFO:stanza:Finished downloading models and saved to C:\\Users\\Seyoung\\stanza_resources\n"
     ]
    }
   ],
   "source": [
    "import stanza\n",
    "stanza.download('ko')\n"
   ]
  },
  {
   "cell_type": "code",
   "execution_count": null,
   "metadata": {},
   "outputs": [
    {
     "name": "stdout",
     "output_type": "stream",
     "text": [
      "Starting to play stream in ko\n",
      "c:\\Users\\Seyoung\\anaconda3\\envs\\realtts2\\Lib\\site-packages\\transformers\\integrations\\sdpa_attention.py:54: UserWarning: 1Torch was not compiled with flash attention. (Triggered internally at ..\\aten\\src\\ATen\\native\\transformers\\cuda\\sdp_utils.cpp:455.)\n",
      "  attn_output = torch.nn.functional.scaled_dot_product_attention(\n",
      "\n",
      "Synthesized (ko): 안녕하세요.\n",
      "Synthesized (ko): 저는 산책을 좋아햐욧.\n",
      "Synthesized (ko): 멍청이들아 Hello world!!\n"
     ]
    }
   ],
   "source": [
    "from RealtimeTTS import CoquiEngine\n",
    "word = \"안녕하세요. 저는 산책을 좋아햐욧. 멍청이들아 Hello world!!\"\n",
    "coqui_engine = CoquiEngine(language=\"ko\")\n",
    "coqui_engine.set_voice(\"tests/coqui_voices/coqui_Alison Dietlinde.wav\")\n",
    "\n",
    "my_synthesize(coqui_engine, language=\"ko\", generator=[word])"
   ]
  },
  {
   "cell_type": "code",
   "execution_count": null,
   "metadata": {},
   "outputs": [],
   "source": []
  },
  {
   "cell_type": "code",
   "execution_count": 3,
   "metadata": {},
   "outputs": [
    {
     "name": "stdout",
     "output_type": "stream",
     "text": [
      "Starting to play stream\n",
      "\u001b[96m\u001b[1m⚡ synthesizing\u001b[0m \u001b[37m→ \u001b[2m'\u001b[22mHey guys! These here are realtime spoken sentences based on local text synthesis.\u001b[2m'\u001b[0m\n",
      "c:\\Users\\Seyoung\\anaconda3\\envs\\realtts\\Lib\\site-packages\\transformers\\integrations\\sdpa_attention.py:54: UserWarning: 1Torch was not compiled with flash attention. (Triggered internally at ..\\aten\\src\\ATen\\native\\transformers\\cuda\\sdp_utils.cpp:455.)\n",
      "  attn_output = torch.nn.functional.scaled_dot_product_attention(\n",
      "\n",
      "\u001b[96m\u001b[1m⚡ synthesizing\u001b[0m \u001b[37m→ \u001b[2m'\u001b[22mWith a local, neuronal, cloned voice.\u001b[2m'\u001b[0m\n",
      "\u001b[96m\u001b[1m⚡ synthesizing\u001b[0m \u001b[37m→ \u001b[2m'\u001b[22mSo every spoken sentence sounds unique.\u001b[2m'\u001b[0m\n",
      "Playout finished\n"
     ]
    },
    {
     "name": "stdout",
     "output_type": "stream",
     "text": [
      "CoquiEngine: General synthesis error: [WinError 109] 파이프가 끝났습니다 occured in synthesize worker thread of coqui engine.\n",
      "\n",
      "Traceback: Traceback (most recent call last):\n",
      "  File \"d:\\workspace\\Omnicore\\RealtimeTTS\\RealtimeTTS\\engines\\coqui_engine.py\", line 624, in _synthesize_worker\n",
      "    if conn.poll(timeout):  # Use poll with a tiny timeout to avoid blocking\n",
      "       ^^^^^^^^^^^^^^^^^^\n",
      "  File \"c:\\Users\\Seyoung\\anaconda3\\envs\\realtts\\Lib\\multiprocessing\\connection.py\", line 257, in poll\n",
      "    return self._poll(timeout)\n",
      "           ^^^^^^^^^^^^^^^^^^^\n",
      "  File \"c:\\Users\\Seyoung\\anaconda3\\envs\\realtts\\Lib\\multiprocessing\\connection.py\", line 344, in _poll\n",
      "    _winapi.PeekNamedPipe(self._handle)[0] != 0):\n",
      "    ^^^^^^^^^^^^^^^^^^^^^^^^^^^^^^^^^^^\n",
      "BrokenPipeError: [WinError 109] 파이프가 끝났습니다\n",
      "\n",
      "Error: [WinError 109] 파이프가 끝났습니다\n"
     ]
    }
   ],
   "source": [
    "if __name__ == \"__main__\":\n",
    "    from RealtimeTTS import TextToAudioStream, CoquiEngine\n",
    "\n",
    "    def dummy_generator():\n",
    "        yield \"Hey guys! These here are realtime spoken sentences based on local text synthesis. \"\n",
    "        yield \"With a local, neuronal, cloned voice. So every spoken sentence sounds unique.\"\n",
    "\n",
    "    # for normal use with minimal logging:\n",
    "    engine = CoquiEngine()\n",
    "\n",
    "    # test with extended logging:\n",
    "    # import logging\n",
    "    # logging.basicConfig(level=logging.INFO)\n",
    "    # engine = CoquiEngine(level=logging.INFO)\n",
    "\n",
    "    stream = TextToAudioStream(engine)\n",
    "\n",
    "    print(\"Starting to play stream\")\n",
    "    stream.feed(dummy_generator()).play(\n",
    "        log_synthesized_text=True, output_wavfile=\"output.wav\"\n",
    "    )\n",
    "\n",
    "    print(\"Playout finished\")"
   ]
  },
  {
   "cell_type": "code",
   "execution_count": null,
   "metadata": {},
   "outputs": [],
   "source": []
  },
  {
   "cell_type": "code",
   "execution_count": 7,
   "metadata": {},
   "outputs": [
    {
     "name": "stderr",
     "output_type": "stream",
     "text": [
      "WARNING:root:engine piper failed to synthesize sentence \"This is piper tts speaking.\", unknown error\n"
     ]
    },
    {
     "name": "stdout",
     "output_type": "stream",
     "text": [
      "Error: Piper executable not found at 'D:/Downloads/piper_windows_amd64/piper/piper.exe'.\n"
     ]
    },
    {
     "name": "stderr",
     "output_type": "stream",
     "text": [
      "WARNING:root:engine piper is the only engine available, can't switch to another engine\n"
     ]
    }
   ],
   "source": [
    "if __name__ == \"__main__\":\n",
    "    from RealtimeTTS import TextToAudioStream, PiperEngine, PiperVoice\n",
    "\n",
    "    def dummy_generator():\n",
    "        yield \"This is piper tts speaking.\"\n",
    "\n",
    "    voice = PiperVoice(\n",
    "        model_file=\"D:/Downloads/piper_windows_amd64/piper/en_US-kathleen-low.onnx\",\n",
    "        config_file=\"D:/Downloads/piper_windows_amd64/piper/en_US-kathleen-low.onnx.json\",\n",
    "    )\n",
    "\n",
    "    engine = PiperEngine(\n",
    "        piper_path=\"D:/Downloads/piper_windows_amd64/piper/piper.exe\",\n",
    "        voice=voice,\n",
    "    )\n",
    "\n",
    "    stream = TextToAudioStream(engine)\n",
    "    stream.feed(dummy_generator())\n",
    "    stream.play()"
   ]
  },
  {
   "cell_type": "code",
   "execution_count": 1,
   "metadata": {},
   "outputs": [
    {
     "name": "stdout",
     "output_type": "stream",
     "text": [
      "2.3.1+cu121\n",
      "12.1\n",
      "8907\n",
      "True\n"
     ]
    }
   ],
   "source": [
    "import torch\n",
    "\n",
    "print(torch.__version__)  # PyTorch 버전\n",
    "print(torch.version.cuda)  # PyTorch가 사용하는 CUDA 버전\n",
    "print(torch.backends.cudnn.version())  # CuDNN 버전\n",
    "print(torch.cuda.is_available())  # GPU 사용 가능 여부\n",
    "\n",
    "# C:\\Users\\Seyoung\\anaconda3\\python.exe .\\main.py"
   ]
  }
 ],
 "metadata": {
  "kernelspec": {
   "display_name": "realtts2",
   "language": "python",
   "name": "python3"
  },
  "language_info": {
   "codemirror_mode": {
    "name": "ipython",
    "version": 3
   },
   "file_extension": ".py",
   "mimetype": "text/x-python",
   "name": "python",
   "nbconvert_exporter": "python",
   "pygments_lexer": "ipython3",
   "version": "3.11.11"
  }
 },
 "nbformat": 4,
 "nbformat_minor": 2
}
